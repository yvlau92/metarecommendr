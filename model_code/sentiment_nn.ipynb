{
 "cells": [
  {
   "cell_type": "code",
   "execution_count": 1,
   "metadata": {
    "collapsed": false
   },
   "outputs": [
    {
     "name": "stderr",
     "output_type": "stream",
     "text": [
      "Using Theano backend.\n"
     ]
    }
   ],
   "source": [
    "from keras.preprocessing import sequence\n",
    "from keras.models import Sequential\n",
    "from keras.layers import Dense, Embedding\n",
    "from keras.layers import LSTM"
   ]
  },
  {
   "cell_type": "code",
   "execution_count": 2,
   "metadata": {
    "collapsed": true
   },
   "outputs": [],
   "source": [
    "import pandas as pd\n",
    "import sqlite3\n",
    "conn = sqlite3.connect('capstone.db')\n",
    "# tblGame , tblMovie, tblReview, tblTVShow\n",
    "# load games dataset\n",
    "games = pd.read_sql_query(\"SELECT * FROM tblGame;\", conn)\n",
    "games['gameID'] = games.index + 1\n",
    "reviews = pd.read_sql_query(\"SELECT * FROM tblReview;\", conn)"
   ]
  },
  {
   "cell_type": "code",
   "execution_count": 3,
   "metadata": {
    "collapsed": false
   },
   "outputs": [],
   "source": [
    "critic_reviews = reviews[reviews['reviewType'] == 'c']\n"
   ]
  },
  {
   "cell_type": "code",
   "execution_count": 4,
   "metadata": {
    "collapsed": false
   },
   "outputs": [
    {
     "name": "stderr",
     "output_type": "stream",
     "text": [
      "/Users/Daniel/anaconda/lib/python2.7/site-packages/ipykernel/__main__.py:16: SettingWithCopyWarning: \n",
      "A value is trying to be set on a copy of a slice from a DataFrame.\n",
      "Try using .loc[row_indexer,col_indexer] = value instead\n",
      "\n",
      "See the caveats in the documentation: http://pandas.pydata.org/pandas-docs/stable/indexing.html#indexing-view-versus-copy\n"
     ]
    }
   ],
   "source": [
    "import re\n",
    "\n",
    "#longest review 203 words\n",
    "\n",
    "def cleaning_text(sentence):\n",
    "    sentence = sentence.lower()\n",
    "    sentence = re.sub(r'\\\\r, u', ' ', sentence)\n",
    "    sentence = re.sub(r'\\\\', \"'\", sentence)\n",
    "    sentence = sentence.split()\n",
    "    sentence = [re.sub(\"([^a-z0-9' \\t])\", '', x) for x in sentence]\n",
    "    cleaned = [s for s in sentence if s != '']\n",
    "    cleaned = ' '.join(cleaned)\n",
    "    return cleaned\n",
    "\n",
    "                        \n",
    "critic_reviews['textClean'] = critic_reviews.apply(lambda row: cleaning_text(row['text'].encode(\"utf8\")), axis=1)"
   ]
  },
  {
   "cell_type": "code",
   "execution_count": 5,
   "metadata": {
    "collapsed": false
   },
   "outputs": [
    {
     "name": "stdout",
     "output_type": "stream",
     "text": [
      "75.0\n",
      "19.3140135003\n",
      "106045\n",
      "96010\n"
     ]
    },
    {
     "data": {
      "image/png": "[encoded data removed]",
      "text/plain": [
       "<matplotlib.figure.Figure at 0x116fb1ad0>"
      ]
     },
     "metadata": {},
     "output_type": "display_data"
    }
   ],
   "source": [
    "%matplotlib inline\n",
    "import matplotlib.pyplot as plt\n",
    "\n",
    "print critic_reviews['score'].median()\n",
    "print critic_reviews['score'].std()\n",
    "plt.hist(critic_reviews['score'], bins = 15)\n",
    "print len(critic_reviews[critic_reviews['score'] >= (85)])\n",
    "print len(critic_reviews[critic_reviews['score'] <= (55)])"
   ]
  },
  {
   "cell_type": "code",
   "execution_count": 6,
   "metadata": {
    "collapsed": false
   },
   "outputs": [
    {
     "name": "stderr",
     "output_type": "stream",
     "text": [
      "/Users/Daniel/anaconda/lib/python2.7/site-packages/ipykernel/__main__.py:9: SettingWithCopyWarning: \n",
      "A value is trying to be set on a copy of a slice from a DataFrame.\n",
      "Try using .loc[row_indexer,col_indexer] = value instead\n",
      "\n",
      "See the caveats in the documentation: http://pandas.pydata.org/pandas-docs/stable/indexing.html#indexing-view-versus-copy\n"
     ]
    }
   ],
   "source": [
    "#label reviews 85 or over as positive and 55 or lower as negative\n",
    "\n",
    "def binarizer(x):\n",
    "    if x <= 55:\n",
    "        return 0\n",
    "    if x >= 85:\n",
    "        return 1\n",
    "    \n",
    "critic_reviews['overall'] = critic_reviews['score'].apply(lambda row: binarizer(row))"
   ]
  },
  {
   "cell_type": "code",
   "execution_count": 7,
   "metadata": {
    "collapsed": false
   },
   "outputs": [
    {
     "data": {
      "text/plain": [
       "202055"
      ]
     },
     "execution_count": 7,
     "metadata": {},
     "output_type": "execute_result"
    }
   ],
   "source": [
    "import numpy as np\n",
    "\n",
    "#drop rows with NA values for overall (scores between 55 and 85)\n",
    "subset = critic_reviews[pd.notnull(critic_reviews['overall'])].reset_index()\n",
    "\n",
    "subset = subset.drop(['author', 'text', 'score', 'date', 'thumbsUp', 'thumbsDown', 'reviewType'], axis = 1).reset_index()\n",
    "len(subset)"
   ]
  },
  {
   "cell_type": "code",
   "execution_count": 8,
   "metadata": {
    "collapsed": false
   },
   "outputs": [
    {
     "data": {
      "text/html": [
       "<div>\n",
       "<table border=\"1\" class=\"dataframe\">\n",
       "  <thead>\n",
       "    <tr style=\"text-align: right;\">\n",
       "      <th></th>\n",
       "      <th>level_0</th>\n",
       "      <th>index</th>\n",
       "      <th>gameID</th>\n",
       "      <th>movieID</th>\n",
       "      <th>tvShowID</th>\n",
       "      <th>publication</th>\n",
       "      <th>textClean</th>\n",
       "      <th>overall</th>\n",
       "    </tr>\n",
       "  </thead>\n",
       "  <tbody>\n",
       "    <tr>\n",
       "      <th>0</th>\n",
       "      <td>0</td>\n",
       "      <td>4</td>\n",
       "      <td>1.0</td>\n",
       "      <td>NaN</td>\n",
       "      <td>NaN</td>\n",
       "      <td>Digitally Downloaded</td>\n",
       "      <td>it may sound like im being harsh on ginger but...</td>\n",
       "      <td>0.0</td>\n",
       "    </tr>\n",
       "    <tr>\n",
       "      <th>1</th>\n",
       "      <td>1</td>\n",
       "      <td>5</td>\n",
       "      <td>2.0</td>\n",
       "      <td>NaN</td>\n",
       "      <td>NaN</td>\n",
       "      <td>God is a Geek</td>\n",
       "      <td>jojos bizarre adventure eyes in heaven feature...</td>\n",
       "      <td>1.0</td>\n",
       "    </tr>\n",
       "    <tr>\n",
       "      <th>2</th>\n",
       "      <td>2</td>\n",
       "      <td>31</td>\n",
       "      <td>2.0</td>\n",
       "      <td>NaN</td>\n",
       "      <td>NaN</td>\n",
       "      <td>PSX-Sense.nl</td>\n",
       "      <td>the amount of fan service is both admirable an...</td>\n",
       "      <td>0.0</td>\n",
       "    </tr>\n",
       "  </tbody>\n",
       "</table>\n",
       "</div>"
      ],
      "text/plain": [
       "   level_0  index  gameID  movieID  tvShowID           publication  \\\n",
       "0        0      4     1.0      NaN       NaN  Digitally Downloaded   \n",
       "1        1      5     2.0      NaN       NaN         God is a Geek   \n",
       "2        2     31     2.0      NaN       NaN          PSX-Sense.nl   \n",
       "\n",
       "                                           textClean  overall  \n",
       "0  it may sound like im being harsh on ginger but...      0.0  \n",
       "1  jojos bizarre adventure eyes in heaven feature...      1.0  \n",
       "2  the amount of fan service is both admirable an...      0.0  "
      ]
     },
     "execution_count": 8,
     "metadata": {},
     "output_type": "execute_result"
    }
   ],
   "source": [
    "\n",
    "subset.head(3)"
   ]
  },
  {
   "cell_type": "code",
   "execution_count": 9,
   "metadata": {
    "collapsed": true
   },
   "outputs": [],
   "source": [
    "max_features = 10000\n",
    "# cut texts after this number of words \n",
    "max_length = 203\n",
    "batch_size = 32"
   ]
  },
  {
   "cell_type": "code",
   "execution_count": 11,
   "metadata": {
    "collapsed": false
   },
   "outputs": [],
   "source": [
    "from keras.preprocessing import text\n",
    "import keras \n",
    "\n",
    "tk = text.Tokenizer(max_features, filters=keras.preprocessing.text.base_filter(), split=\" \")\n",
    "tk.fit_on_texts(subset['textClean'])\n",
    "\n",
    "#create data set, both features and labels\n",
    "x = tk.texts_to_sequences(subset['textClean'])\n",
    "y = subset['overall']"
   ]
  },
  {
   "cell_type": "code",
   "execution_count": 12,
   "metadata": {
    "collapsed": false
   },
   "outputs": [],
   "source": [
    "x = sequence.pad_sequences(x, maxlen = max_length, padding = 'post')"
   ]
  },
  {
   "cell_type": "code",
   "execution_count": 13,
   "metadata": {
    "collapsed": false
   },
   "outputs": [
    {
     "data": {
      "text/plain": [
       "'jojos bizarre adventure eyes in heaven features fun combat and a crazy story youll find hard not to get sucked into'"
      ]
     },
     "execution_count": 13,
     "metadata": {},
     "output_type": "execute_result"
    }
   ],
   "source": [
    "subset['textClean'][1]"
   ]
  },
  {
   "cell_type": "code",
   "execution_count": 14,
   "metadata": {
    "collapsed": false
   },
   "outputs": [
    {
     "data": {
      "text/plain": [
       "array([1671,  151, 1063,    8, 2553,  233,   49,  163,    3,    2, 1104,\n",
       "         62,  326,  134,  183,   23,    5,   80, 4338,   64,    0,    0,\n",
       "          0,    0,    0,    0,    0,    0,    0,    0,    0,    0,    0,\n",
       "          0,    0,    0,    0,    0,    0,    0,    0,    0,    0,    0,\n",
       "          0,    0,    0,    0,    0,    0,    0,    0,    0,    0,    0,\n",
       "          0,    0,    0,    0,    0,    0,    0,    0,    0,    0,    0,\n",
       "          0,    0,    0,    0,    0,    0,    0,    0,    0,    0,    0,\n",
       "          0,    0,    0,    0,    0,    0,    0,    0,    0,    0,    0,\n",
       "          0,    0,    0,    0,    0,    0,    0,    0,    0,    0,    0,\n",
       "          0,    0,    0,    0,    0,    0,    0,    0,    0,    0,    0,\n",
       "          0,    0,    0,    0,    0,    0,    0,    0,    0,    0,    0,\n",
       "          0,    0,    0,    0,    0,    0,    0,    0,    0,    0,    0,\n",
       "          0,    0,    0,    0,    0,    0,    0,    0,    0,    0,    0,\n",
       "          0,    0,    0,    0,    0,    0,    0,    0,    0,    0,    0,\n",
       "          0,    0,    0,    0,    0,    0,    0,    0,    0,    0,    0,\n",
       "          0,    0,    0,    0,    0,    0,    0,    0,    0,    0,    0,\n",
       "          0,    0,    0,    0,    0,    0,    0,    0,    0,    0,    0,\n",
       "          0,    0,    0,    0,    0,    0,    0,    0,    0,    0,    0,\n",
       "          0,    0,    0,    0,    0], dtype=int32)"
      ]
     },
     "execution_count": 14,
     "metadata": {},
     "output_type": "execute_result"
    }
   ],
   "source": [
    "x[1]"
   ]
  },
  {
   "cell_type": "code",
   "execution_count": 15,
   "metadata": {
    "collapsed": true
   },
   "outputs": [],
   "source": [
    "#Divide dataset into train and test\n",
    "\n",
    "from sklearn.model_selection import train_test_split\n",
    "\n",
    "X_train, X_test, y_train, y_test = train_test_split(\n",
    "x, y, test_size=0.4, random_state=42)"
   ]
  },
  {
   "cell_type": "code",
   "execution_count": 16,
   "metadata": {
    "collapsed": false
   },
   "outputs": [
    {
     "name": "stdout",
     "output_type": "stream",
     "text": [
      "121233 80822 121233 80822\n",
      "10000\n"
     ]
    }
   ],
   "source": [
    "print len(X_train), len(X_test), len(y_train), len(y_test)\n",
    "X_train.shape\n",
    "\n",
    "#Training data shape: 121233, 203\n",
    "#Test data shape: 80822, 203\n",
    "y_test[1:3]\n",
    "print max_features"
   ]
  },
  {
   "cell_type": "code",
   "execution_count": 26,
   "metadata": {
    "collapsed": false
   },
   "outputs": [
    {
     "name": "stdout",
     "output_type": "stream",
     "text": [
      "____________________________________________________________________________________________________\n",
      "Layer (type)                     Output Shape          Param #     Connected to                     \n",
      "====================================================================================================\n",
      "embedding_5 (Embedding)          (None, 203, 32)       320000      embedding_input_5[0][0]          \n",
      "____________________________________________________________________________________________________\n",
      "convolution1d_3 (Convolution1D)  (None, 203, 32)       4128        embedding_5[0][0]                \n",
      "____________________________________________________________________________________________________\n",
      "maxpooling1d_3 (MaxPooling1D)    (None, 50, 32)        0           convolution1d_3[0][0]            \n",
      "____________________________________________________________________________________________________\n",
      "flatten_2 (Flatten)              (None, 1600)          0           maxpooling1d_3[0][0]             \n",
      "____________________________________________________________________________________________________\n",
      "dense_4 (Dense)                  (None, 500)           800500      flatten_2[0][0]                  \n",
      "____________________________________________________________________________________________________\n",
      "dense_5 (Dense)                  (None, 1)             501         dense_4[0][0]                    \n",
      "====================================================================================================\n",
      "Total params: 1125129\n",
      "____________________________________________________________________________________________________\n",
      "None\n",
      "Train on 121233 samples, validate on 80822 samples\n",
      "Epoch 1/3\n",
      "121233/121233 [==============================] - 109s - loss: 0.3575 - acc: 0.8340 - val_loss: 0.2728 - val_acc: 0.8848\n",
      "Epoch 2/3\n",
      "121233/121233 [==============================] - 117s - loss: 0.2254 - acc: 0.9076 - val_loss: 0.2586 - val_acc: 0.8925\n",
      "Epoch 3/3\n",
      "121233/121233 [==============================] - 117s - loss: 0.1711 - acc: 0.9322 - val_loss: 0.2701 - val_acc: 0.8930\n",
      "Accuracy: 89.30%\n"
     ]
    }
   ],
   "source": [
    "#create the model, convolution \n",
    "\n",
    "#default gets 88% accuracy, embedding = 32, filter length = 3, pool length = 2, dense = 250, 2 epoch, batch size = 128\n",
    "#second attempt: 89.3% accuracy, log loss = 0.2701, embedding = 32, filter length = 4, pool length = 4, dense = 500, 3 epoch, batch size = 256\n",
    "embedding_vector_length = 32\n",
    "from keras.layers.convolutional import Convolution1D\n",
    "from keras.layers.convolutional import MaxPooling1D\n",
    "from keras.layers import Flatten\n",
    "\n",
    "model = Sequential()\n",
    "model.add(Embedding(max_features, embedding_vector_length, input_length = max_length))\n",
    "model.add(Convolution1D(nb_filter=32, filter_length=4, border_mode='same', activation='relu'))\n",
    "model.add(MaxPooling1D(pool_length=4))\n",
    "model.add(Flatten())\n",
    "model.add(Dense(500, activation='relu'))\n",
    "model.add(Dense(1, activation='sigmoid'))\n",
    "model.compile(loss='binary_crossentropy', optimizer='adam', metrics=['accuracy'])\n",
    "print(model.summary())\n",
    "\n",
    "# Fit the model\n",
    "model.fit(X_train, y_train, validation_data=(X_test, y_test), nb_epoch=3, batch_size=256, verbose=1)\n",
    "# Final evaluation of the model\n",
    "scores = model.evaluate(X_test, y_test, verbose=0)\n",
    "print(\"Accuracy: %.2f%%\" % (scores[1]*100))"
   ]
  },
  {
   "cell_type": "code",
   "execution_count": 96,
   "metadata": {
    "collapsed": false
   },
   "outputs": [
    {
     "name": "stdout",
     "output_type": "stream",
     "text": [
      "____________________________________________________________________________________________________\n",
      "Layer (type)                     Output Shape          Param #     Connected to                     \n",
      "====================================================================================================\n",
      "embedding_60 (Embedding)         (None, 203, 128)      1280000     embedding_input_60[0][0]         \n",
      "____________________________________________________________________________________________________\n",
      "dropout_8 (Dropout)              (None, 203, 128)      0           embedding_60[0][0]               \n",
      "____________________________________________________________________________________________________\n",
      "convolution1d_32 (Convolution1D) (None, 199, 64)       41024       dropout_8[0][0]                  \n",
      "____________________________________________________________________________________________________\n",
      "maxpooling1d_28 (MaxPooling1D)   (None, 49, 64)        0           convolution1d_32[0][0]           \n",
      "____________________________________________________________________________________________________\n",
      "lstm_75 (LSTM)                   (None, 70)            37800       maxpooling1d_28[0][0]            \n",
      "____________________________________________________________________________________________________\n",
      "dense_54 (Dense)                 (None, 1)             71          lstm_75[0][0]                    \n",
      "====================================================================================================\n",
      "Total params: 1358895\n",
      "____________________________________________________________________________________________________\n",
      "None\n",
      "Train on 121233 samples, validate on 80822 samples\n",
      "Epoch 1/3\n",
      "121233/121233 [==============================] - 653s - loss: 0.3283 - acc: 0.8544 - val_loss: 0.2697 - val_acc: 0.8816\n",
      "Epoch 2/3\n",
      "121233/121233 [==============================] - 657s - loss: 0.2167 - acc: 0.9130 - val_loss: 0.2599 - val_acc: 0.8969\n",
      "Epoch 3/3\n",
      "121233/121233 [==============================] - 661s - loss: 0.1572 - acc: 0.9399 - val_loss: 0.2688 - val_acc: 0.8981\n",
      "Accuracy: 89.81%\n"
     ]
    }
   ],
   "source": [
    "from keras.layers import LSTM, Dropout\n",
    "from keras.layers.convolutional import Convolution2D\n",
    "from keras.layers.convolutional import MaxPooling2D\n",
    "from keras.layers.convolutional import Convolution1D\n",
    "from keras.layers.convolutional import MaxPooling1D\n",
    "from keras.layers.convolutional import Conv1D\n",
    "from keras.layers.convolutional import MaxPooling1D\n",
    "\n",
    "max_features = 10000 \n",
    "max_length = 203\n",
    "embedding_vector_length = 128\n",
    "\n",
    "kernel_size = 5\n",
    "filters = 64\n",
    "pool_size = 4\n",
    "\n",
    "ltsm_output_size = 70\n",
    "\n",
    "batch_size = 30\n",
    "epochs = 3\n",
    "\n",
    "model = Sequential()\n",
    "model.add(Embedding(max_features, embedding_vector_length, input_length = max_length))\n",
    "model.add(Dropout(0.25))\n",
    "model.add(Conv1D(filters, kernel_size, activation='relu'))\n",
    "model.add(MaxPooling1D(pool_size))\n",
    "model.add(LSTM(ltsm_output_size)) \n",
    "model.add(Dense(1, activation='sigmoid'))    \n",
    "model.compile(loss='binary_crossentropy', optimizer='adam', metrics=['accuracy'])\n",
    "print(model.summary())\n",
    "\n",
    "# Fit the model\n",
    "model.fit(X_train, y_train, validation_data=(X_test, y_test), nb_epoch=3, batch_size=128, verbose=1)\n",
    "# Final evaluation of the model\n",
    "scores = model.evaluate(X_test, y_test, verbose=0)\n",
    "print(\"Accuracy: %.2f%%\" % (scores[1]*100))"
   ]
  },
  {
   "cell_type": "code",
   "execution_count": 99,
   "metadata": {
    "collapsed": false
   },
   "outputs": [
    {
     "name": "stdout",
     "output_type": "stream",
     "text": [
      "____________________________________________________________________________________________________\n",
      "Layer (type)                     Output Shape          Param #     Connected to                     \n",
      "====================================================================================================\n",
      "embedding_63 (Embedding)         (None, 203, 200)      2000000     embedding_input_63[0][0]         \n",
      "____________________________________________________________________________________________________\n",
      "dropout_11 (Dropout)             (None, 203, 200)      0           embedding_63[0][0]               \n",
      "____________________________________________________________________________________________________\n",
      "convolution1d_35 (Convolution1D) (None, 200, 64)       51264       dropout_11[0][0]                 \n",
      "____________________________________________________________________________________________________\n",
      "maxpooling1d_31 (MaxPooling1D)   (None, 50, 64)        0           convolution1d_35[0][0]           \n",
      "____________________________________________________________________________________________________\n",
      "lstm_78 (LSTM)                   (None, 25)            9000        maxpooling1d_31[0][0]            \n",
      "____________________________________________________________________________________________________\n",
      "dense_61 (Dense)                 (None, 250)           6500        lstm_78[0][0]                    \n",
      "____________________________________________________________________________________________________\n",
      "dense_62 (Dense)                 (None, 250)           62750       dense_61[0][0]                   \n",
      "____________________________________________________________________________________________________\n",
      "dense_63 (Dense)                 (None, 125)           31375       dense_62[0][0]                   \n",
      "____________________________________________________________________________________________________\n",
      "dense_64 (Dense)                 (None, 1)             126         dense_63[0][0]                   \n",
      "====================================================================================================\n",
      "Total params: 2161015\n",
      "____________________________________________________________________________________________________\n",
      "None\n",
      "Train on 121233 samples, validate on 80822 samples\n",
      "Epoch 1/3\n",
      "121233/121233 [==============================] - 802s - loss: 0.3156 - acc: 0.8592 - val_loss: 0.2533 - val_acc: 0.8910\n",
      "Epoch 2/3\n",
      "121233/121233 [==============================] - 807s - loss: 0.2055 - acc: 0.9165 - val_loss: 0.2786 - val_acc: 0.8994\n",
      "Epoch 3/3\n",
      "121233/121233 [==============================] - 820s - loss: 0.1435 - acc: 0.9439 - val_loss: 0.2636 - val_acc: 0.8989\n",
      "Accuracy: 89.89%\n"
     ]
    }
   ],
   "source": [
    "max_features = 10000 \n",
    "max_length = 203\n",
    "embedding_vector_length = 200\n",
    "\n",
    "kernel_size = 4\n",
    "filters = 64\n",
    "pool_size = 4\n",
    "\n",
    "ltsm_output_size = 25\n",
    "\n",
    "batch_size = 50\n",
    "epochs = 3\n",
    "\n",
    "model = Sequential()\n",
    "model.add(Embedding(max_features, embedding_vector_length, input_length = max_length))\n",
    "model.add(Dropout(0.25))\n",
    "model.add(Conv1D(filters, kernel_size, border_mode=\"valid\", subsample_length=1, activation='relu'))\n",
    "model.add(MaxPooling1D(pool_size))\n",
    "model.add(LSTM(ltsm_output_size)) \n",
    "model.add(Dense(250, activation='relu'))\n",
    "model.add(Dense(250, activation='relu'))\n",
    "model.add(Dense(125, activation='relu'))\n",
    "model.add(Dense(1, activation='sigmoid'))    \n",
    "model.compile(loss='binary_crossentropy', optimizer='adam', metrics=['accuracy'])\n",
    "print(model.summary())\n",
    "\n",
    "# Fit the model\n",
    "model.fit(X_train, y_train, validation_data=(X_test, y_test), nb_epoch=epochs, batch_size=batch_size, verbose=1)\n",
    "# Final evaluation of the model\n",
    "scores = model.evaluate(X_test, y_test, verbose=0)\n",
    "print(\"Accuracy: %.2f%%\" % (scores[1]*100))"
   ]
  },
  {
   "cell_type": "code",
   "execution_count": 109,
   "metadata": {
    "collapsed": false
   },
   "outputs": [
    {
     "name": "stdout",
     "output_type": "stream",
     "text": [
      "____________________________________________________________________________________________________\n",
      "Layer (type)                     Output Shape          Param #     Connected to                     \n",
      "====================================================================================================\n",
      "embedding_73 (Embedding)         (None, 203, 128)      1280000     embedding_input_73[0][0]         \n",
      "____________________________________________________________________________________________________\n",
      "dropout_22 (Dropout)             (None, 203, 128)      0           embedding_73[0][0]               \n",
      "____________________________________________________________________________________________________\n",
      "convolution1d_57 (Convolution1D) (None, 196, 64)       65600       dropout_22[0][0]                 \n",
      "____________________________________________________________________________________________________\n",
      "maxpooling1d_49 (MaxPooling1D)   (None, 49, 64)        0           convolution1d_57[0][0]           \n",
      "____________________________________________________________________________________________________\n",
      "convolution1d_58 (Convolution1D) (None, 42, 64)        32832       maxpooling1d_49[0][0]            \n",
      "____________________________________________________________________________________________________\n",
      "maxpooling1d_50 (MaxPooling1D)   (None, 21, 64)        0           convolution1d_58[0][0]           \n",
      "____________________________________________________________________________________________________\n",
      "lstm_87 (LSTM)                   (None, 25)            9000        maxpooling1d_50[0][0]            \n",
      "____________________________________________________________________________________________________\n",
      "dense_93 (Dense)                 (None, 250)           6500        lstm_87[0][0]                    \n",
      "____________________________________________________________________________________________________\n",
      "dense_94 (Dense)                 (None, 250)           62750       dense_93[0][0]                   \n",
      "____________________________________________________________________________________________________\n",
      "dense_95 (Dense)                 (None, 125)           31375       dense_94[0][0]                   \n",
      "____________________________________________________________________________________________________\n",
      "dense_96 (Dense)                 (None, 1)             126         dense_95[0][0]                   \n",
      "====================================================================================================\n",
      "Total params: 1488183\n",
      "____________________________________________________________________________________________________\n",
      "None\n",
      "Train on 121233 samples, validate on 80822 samples\n",
      "Epoch 1/3\n",
      "121233/121233 [==============================] - 793s - loss: 0.3193 - acc: 0.8607 - val_loss: 0.2584 - val_acc: 0.8918\n",
      "Epoch 2/3\n",
      "121233/121233 [==============================] - 792s - loss: 0.2132 - acc: 0.9145 - val_loss: 0.2496 - val_acc: 0.8972\n",
      "Epoch 3/3\n",
      "121233/121233 [==============================] - 804s - loss: 0.1499 - acc: 0.9424 - val_loss: 0.3033 - val_acc: 0.8961\n",
      "Accuracy: 89.61%\n"
     ]
    }
   ],
   "source": [
    "max_features = 10000 \n",
    "max_length = 203\n",
    "embedding_vector_length = 128\n",
    "\n",
    "kernel_size = 8\n",
    "filters = 64\n",
    "pool_size = 4\n",
    "\n",
    "ltsm_output_size = 25\n",
    "\n",
    "batch_size = 50\n",
    "epochs = 3\n",
    "\n",
    "model = Sequential()\n",
    "model.add(Embedding(max_features, embedding_vector_length, input_length = max_length))\n",
    "model.add(Dropout(0.25))\n",
    "model.add(Conv1D(filters, kernel_size, border_mode=\"valid\", subsample_length=1, activation='relu'))\n",
    "model.add(MaxPooling1D(pool_size))\n",
    "model.add(Conv1D(filters, kernel_size, border_mode=\"valid\", subsample_length=1, activation='relu'))\n",
    "model.add(MaxPooling1D(pool_size / 2))\n",
    "model.add(LSTM(ltsm_output_size)) \n",
    "model.add(Dense(250, activation='relu'))\n",
    "model.add(Dense(250, activation='relu'))\n",
    "model.add(Dense(125, activation='relu'))\n",
    "model.add(Dense(1, activation='sigmoid'))    \n",
    "model.compile(loss='binary_crossentropy', optimizer='adam', metrics=['accuracy'])\n",
    "print(model.summary())\n",
    "\n",
    "# Fit the model\n",
    "model.fit(X_train, y_train, validation_data=(X_test, y_test), nb_epoch=epochs, batch_size=batch_size, verbose=1)\n",
    "# Final evaluation of the model\n",
    "scores = model.evaluate(X_test, y_test, verbose=0)\n",
    "print(\"Accuracy: %.2f%%\" % (scores[1]*100))"
   ]
  },
  {
   "cell_type": "code",
   "execution_count": 22,
   "metadata": {
    "collapsed": false
   },
   "outputs": [
    {
     "name": "stdout",
     "output_type": "stream",
     "text": [
      "____________________________________________________________________________________________________\n",
      "Layer (type)                     Output Shape          Param #     Connected to                     \n",
      "====================================================================================================\n",
      "embedding_5 (Embedding)          (None, 203, 128)      1280000     embedding_input_5[0][0]          \n",
      "____________________________________________________________________________________________________\n",
      "convolution1d_9 (Convolution1D)  (None, 196, 128)      131200      embedding_5[0][0]                \n",
      "____________________________________________________________________________________________________\n",
      "maxpooling1d_9 (MaxPooling1D)    (None, 49, 128)       0           convolution1d_9[0][0]            \n",
      "____________________________________________________________________________________________________\n",
      "convolution1d_10 (Convolution1D) (None, 42, 128)       131200      maxpooling1d_9[0][0]             \n",
      "____________________________________________________________________________________________________\n",
      "maxpooling1d_10 (MaxPooling1D)   (None, 21, 128)       0           convolution1d_10[0][0]           \n",
      "____________________________________________________________________________________________________\n",
      "lstm_9 (LSTM)                    (None, 21, 20)        11920       maxpooling1d_10[0][0]            \n",
      "____________________________________________________________________________________________________\n",
      "dropout_9 (Dropout)              (None, 21, 20)        0           lstm_9[0][0]                     \n",
      "____________________________________________________________________________________________________\n",
      "lstm_10 (LSTM)                   (None, 20)            3280        dropout_9[0][0]                  \n",
      "____________________________________________________________________________________________________\n",
      "dropout_10 (Dropout)             (None, 20)            0           lstm_10[0][0]                    \n",
      "____________________________________________________________________________________________________\n",
      "dense_17 (Dense)                 (None, 250)           5250        dropout_10[0][0]                 \n",
      "____________________________________________________________________________________________________\n",
      "dense_18 (Dense)                 (None, 250)           62750       dense_17[0][0]                   \n",
      "____________________________________________________________________________________________________\n",
      "dense_19 (Dense)                 (None, 125)           31375       dense_18[0][0]                   \n",
      "____________________________________________________________________________________________________\n",
      "dense_20 (Dense)                 (None, 1)             126         dense_19[0][0]                   \n",
      "====================================================================================================\n",
      "Total params: 1657101\n",
      "____________________________________________________________________________________________________\n",
      "None\n",
      "Train on 121233 samples, validate on 80822 samples\n",
      "Epoch 1/6\n",
      "121233/121233 [==============================] - 1019s - loss: 0.3356 - acc: 0.8586 - val_loss: 0.2934 - val_acc: 0.8847\n",
      "Epoch 2/6\n",
      "121233/121233 [==============================] - 1138s - loss: 0.2661 - acc: 0.8963 - val_loss: 0.2575 - val_acc: 0.8938\n",
      "Epoch 3/6\n",
      "121233/121233 [==============================] - 970s - loss: 0.2396 - acc: 0.9092 - val_loss: 0.2703 - val_acc: 0.8894\n",
      "Epoch 4/6\n",
      "121233/121233 [==============================] - 1084s - loss: 0.2195 - acc: 0.9197 - val_loss: 0.3325 - val_acc: 0.8762\n",
      "Epoch 5/6\n",
      "121233/121233 [==============================] - 1076s - loss: 0.2072 - acc: 0.9267 - val_loss: 0.3519 - val_acc: 0.8943\n",
      "Epoch 6/6\n",
      "121233/121233 [==============================] - 954s - loss: 0.1903 - acc: 0.9347 - val_loss: 0.2945 - val_acc: 0.8922\n",
      "Accuracy: 89.22%\n"
     ]
    }
   ],
   "source": [
    "from keras.layers import LSTM, Dropout\n",
    "from keras.layers.convolutional import Convolution2D\n",
    "from keras.layers.convolutional import MaxPooling2D\n",
    "from keras.layers.convolutional import Convolution1D\n",
    "from keras.layers.convolutional import MaxPooling1D\n",
    "from keras.layers.convolutional import Conv1D\n",
    "from keras.layers.convolutional import MaxPooling1D\n",
    "\n",
    "max_features = 10000 \n",
    "max_length = 203\n",
    "embedding_vector_length = 128\n",
    "\n",
    "kernel_size = 8\n",
    "filters = 128\n",
    "pool_size = 4\n",
    "\n",
    "ltsm_output_size = 20\n",
    "\n",
    "batch_size = 30\n",
    "epochs = 6\n",
    "\n",
    "model = Sequential()\n",
    "model.add(Embedding(max_features, embedding_vector_length, input_length = max_length))\n",
    "model.add(Conv1D(filters, kernel_size, border_mode=\"valid\", subsample_length=1, activation='relu'))\n",
    "model.add(MaxPooling1D(pool_size))\n",
    "model.add(Conv1D(filters, kernel_size, border_mode=\"valid\", subsample_length=1, activation='relu'))\n",
    "model.add(MaxPooling1D(pool_size / 2))\n",
    "model.add(LSTM(ltsm_output_size, return_sequences = True)) \n",
    "model.add(Dropout(0.2))\n",
    "model.add(LSTM(ltsm_output_size, return_sequences = False)) \n",
    "model.add(Dropout(0.2))\n",
    "model.add(Dense(250, activation='relu'))\n",
    "model.add(Dense(250, activation='relu'))\n",
    "model.add(Dense(125, activation='relu'))\n",
    "model.add(Dense(1, activation='sigmoid'))    \n",
    "model.compile(loss='binary_crossentropy', optimizer='RMSprop', metrics=['accuracy'])\n",
    "print(model.summary())\n",
    "\n",
    "# Fit the model\n",
    "model.fit(X_train, y_train, validation_data=(X_test, y_test), nb_epoch=epochs, batch_size=batch_size, verbose=1)\n",
    "# Final evaluation of the model\n",
    "scores = model.evaluate(X_test, y_test, verbose=0)\n",
    "print(\"Accuracy: %.2f%%\" % (scores[1]*100))"
   ]
  },
  {
   "cell_type": "code",
   "execution_count": 23,
   "metadata": {
    "collapsed": true
   },
   "outputs": [],
   "source": [
    "weights = model.save_weights"
   ]
  },
  {
   "cell_type": "code",
   "execution_count": 21,
   "metadata": {
    "collapsed": false
   },
   "outputs": [
    {
     "data": {
      "text/plain": [
       "<bound method Sequential.save_weights of <keras.models.Sequential object at 0x16754bd10>>"
      ]
     },
     "execution_count": 21,
     "metadata": {},
     "output_type": "execute_result"
    }
   ],
   "source": [
    "weights"
   ]
  },
  {
   "cell_type": "code",
   "execution_count": 62,
   "metadata": {
    "collapsed": true
   },
   "outputs": [],
   "source": [
    "model.save('sentiment_model2.h5')"
   ]
  },
  {
   "cell_type": "code",
   "execution_count": 69,
   "metadata": {
    "collapsed": false
   },
   "outputs": [
    {
     "name": "stdout",
     "output_type": "stream",
     "text": [
      "jojos bizarre adventure eyes in heaven features fun combat and a crazy story youll find hard not to get sucked into\n",
      "ugh this game is not good i would not recommend it\n",
      "[14, 10, 6, 23, 55, 30, 104, 23, 322, 7]\n",
      "(203,)\n",
      "3\n",
      "[[  14   10    6   23   55   30  104   23  322    7    0    0    0    0\n",
      "     0    0    0    0    0    0    0    0    0    0    0    0    0    0\n",
      "     0    0    0    0    0    0    0    0    0    0    0    0    0    0\n",
      "     0    0    0    0    0    0    0    0    0    0    0    0    0    0\n",
      "     0    0    0    0    0    0    0    0    0    0    0    0    0    0\n",
      "     0    0    0    0    0    0    0    0    0    0    0    0    0    0\n",
      "     0    0    0    0    0    0    0    0    0    0    0    0    0    0\n",
      "     0    0    0    0    0    0    0    0    0    0    0    0    0    0\n",
      "     0    0    0    0    0    0    0    0    0    0    0    0    0    0\n",
      "     0    0    0    0    0    0    0    0    0    0    0    0    0    0\n",
      "     0    0    0    0    0    0    0    0    0    0    0    0    0    0\n",
      "     0    0    0    0    0    0    0    0    0    0    0    0    0    0\n",
      "     0    0    0    0    0    0    0    0    0    0    0    0    0    0\n",
      "     0    0    0    0    0    0    0    0    0    0    0    0    0    0\n",
      "     0    0    0    0    0    0    0]\n",
      " [  14    6    2   45   10   30  132    7    1  107   22   74   55    3\n",
      "     1  163    6  472 1239    0    0    0    0    0    0    0    0    0\n",
      "     0    0    0    0    0    0    0    0    0    0    0    0    0    0\n",
      "     0    0    0    0    0    0    0    0    0    0    0    0    0    0\n",
      "     0    0    0    0    0    0    0    0    0    0    0    0    0    0\n",
      "     0    0    0    0    0    0    0    0    0    0    0    0    0    0\n",
      "     0    0    0    0    0    0    0    0    0    0    0    0    0    0\n",
      "     0    0    0    0    0    0    0    0    0    0    0    0    0    0\n",
      "     0    0    0    0    0    0    0    0    0    0    0    0    0    0\n",
      "     0    0    0    0    0    0    0    0    0    0    0    0    0    0\n",
      "     0    0    0    0    0    0    0    0    0    0    0    0    0    0\n",
      "     0    0    0    0    0    0    0    0    0    0    0    0    0    0\n",
      "     0    0    0    0    0    0    0    0    0    0    0    0    0    0\n",
      "     0    0    0    0    0    0    0    0    0    0    0    0    0    0\n",
      "     0    0    0    0    0    0    0]\n",
      " [1671  151 1063    8 2553  233   49  163    3    2 1104   62  326  134\n",
      "   183   23    5   80 4338   64    0    0    0    0    0    0    0    0\n",
      "     0    0    0    0    0    0    0    0    0    0    0    0    0    0\n",
      "     0    0    0    0    0    0    0    0    0    0    0    0    0    0\n",
      "     0    0    0    0    0    0    0    0    0    0    0    0    0    0\n",
      "     0    0    0    0    0    0    0    0    0    0    0    0    0    0\n",
      "     0    0    0    0    0    0    0    0    0    0    0    0    0    0\n",
      "     0    0    0    0    0    0    0    0    0    0    0    0    0    0\n",
      "     0    0    0    0    0    0    0    0    0    0    0    0    0    0\n",
      "     0    0    0    0    0    0    0    0    0    0    0    0    0    0\n",
      "     0    0    0    0    0    0    0    0    0    0    0    0    0    0\n",
      "     0    0    0    0    0    0    0    0    0    0    0    0    0    0\n",
      "     0    0    0    0    0    0    0    0    0    0    0    0    0    0\n",
      "     0    0    0    0    0    0    0    0    0    0    0    0    0    0\n",
      "     0    0    0    0    0    0    0]]\n"
     ]
    }
   ],
   "source": [
    "from keras.preprocessing import text\n",
    "import keras \n",
    "\n",
    "text_test = 'This is a great game! I love it. THe graphics are really good and the combat is super smooth'\n",
    "text_test2 = 'Ugh, this game is not good. I would not recommend it'\n",
    "tester = subset['textClean'][1]\n",
    "print tester\n",
    "\n",
    "cleaned = cleaning_text(text_test)\n",
    "cleaned2 = cleaning_text(text_test2)\n",
    "\n",
    "print cleaned2\n",
    "\n",
    "#create data set, both features and labels\n",
    "x = tk.texts_to_sequences([cleaned2, cleaned, tester])\n",
    "\n",
    "print x[0]\n",
    "\n",
    "x = sequence.pad_sequences(x, maxlen = max_length, padding = 'post')\n",
    "\n",
    "print x[0].shape\n",
    "\n",
    "print len(x)\n",
    "print(x)\n",
    "\n"
   ]
  },
  {
   "cell_type": "code",
   "execution_count": 70,
   "metadata": {
    "collapsed": false
   },
   "outputs": [
    {
     "ename": "Exception",
     "evalue": "Error when checking : expected embedding_input_3 to have shape (None, 203) but got array with shape (203, 1)",
     "output_type": "error",
     "traceback": [
      "\u001b[0;31m---------------------------------------------------------------------------\u001b[0m",
      "\u001b[0;31mException\u001b[0m                                 Traceback (most recent call last)",
      "\u001b[0;32m<ipython-input-70-5b32af56ad05>\u001b[0m in \u001b[0;36m<module>\u001b[0;34m()\u001b[0m\n\u001b[0;32m----> 1\u001b[0;31m \u001b[0mpreds\u001b[0m \u001b[0;34m=\u001b[0m \u001b[0mmodel\u001b[0m\u001b[0;34m.\u001b[0m\u001b[0mpredict\u001b[0m\u001b[0;34m(\u001b[0m\u001b[0mx\u001b[0m\u001b[0;34m[\u001b[0m\u001b[0;36m0\u001b[0m\u001b[0;34m]\u001b[0m\u001b[0;34m)\u001b[0m\u001b[0;34m\u001b[0m\u001b[0m\n\u001b[0m\u001b[1;32m      2\u001b[0m \u001b[0mround\u001b[0m\u001b[0;34m(\u001b[0m\u001b[0mpreds\u001b[0m\u001b[0;34m[\u001b[0m\u001b[0;36m1\u001b[0m\u001b[0;34m]\u001b[0m\u001b[0;34m)\u001b[0m\u001b[0;34m\u001b[0m\u001b[0m\n",
      "\u001b[0;32m/Users/Daniel/anaconda/lib/python2.7/site-packages/keras/models.pyc\u001b[0m in \u001b[0;36mpredict\u001b[0;34m(self, x, batch_size, verbose)\u001b[0m\n\u001b[1;32m    676\u001b[0m         \u001b[0;32mif\u001b[0m \u001b[0mself\u001b[0m\u001b[0;34m.\u001b[0m\u001b[0mmodel\u001b[0m \u001b[0;32mis\u001b[0m \u001b[0mNone\u001b[0m\u001b[0;34m:\u001b[0m\u001b[0;34m\u001b[0m\u001b[0m\n\u001b[1;32m    677\u001b[0m             \u001b[0mself\u001b[0m\u001b[0;34m.\u001b[0m\u001b[0mbuild\u001b[0m\u001b[0;34m(\u001b[0m\u001b[0;34m)\u001b[0m\u001b[0;34m\u001b[0m\u001b[0m\n\u001b[0;32m--> 678\u001b[0;31m         \u001b[0;32mreturn\u001b[0m \u001b[0mself\u001b[0m\u001b[0;34m.\u001b[0m\u001b[0mmodel\u001b[0m\u001b[0;34m.\u001b[0m\u001b[0mpredict\u001b[0m\u001b[0;34m(\u001b[0m\u001b[0mx\u001b[0m\u001b[0;34m,\u001b[0m \u001b[0mbatch_size\u001b[0m\u001b[0;34m=\u001b[0m\u001b[0mbatch_size\u001b[0m\u001b[0;34m,\u001b[0m \u001b[0mverbose\u001b[0m\u001b[0;34m=\u001b[0m\u001b[0mverbose\u001b[0m\u001b[0;34m)\u001b[0m\u001b[0;34m\u001b[0m\u001b[0m\n\u001b[0m\u001b[1;32m    679\u001b[0m \u001b[0;34m\u001b[0m\u001b[0m\n\u001b[1;32m    680\u001b[0m     \u001b[0;32mdef\u001b[0m \u001b[0mpredict_on_batch\u001b[0m\u001b[0;34m(\u001b[0m\u001b[0mself\u001b[0m\u001b[0;34m,\u001b[0m \u001b[0mx\u001b[0m\u001b[0;34m)\u001b[0m\u001b[0;34m:\u001b[0m\u001b[0;34m\u001b[0m\u001b[0m\n",
      "\u001b[0;32m/Users/Daniel/anaconda/lib/python2.7/site-packages/keras/engine/training.pyc\u001b[0m in \u001b[0;36mpredict\u001b[0;34m(self, x, batch_size, verbose)\u001b[0m\n\u001b[1;32m   1177\u001b[0m         x = standardize_input_data(x, self.input_names,\n\u001b[1;32m   1178\u001b[0m                                    \u001b[0mself\u001b[0m\u001b[0;34m.\u001b[0m\u001b[0minternal_input_shapes\u001b[0m\u001b[0;34m,\u001b[0m\u001b[0;34m\u001b[0m\u001b[0m\n\u001b[0;32m-> 1179\u001b[0;31m                                    check_batch_dim=False)\n\u001b[0m\u001b[1;32m   1180\u001b[0m         \u001b[0;32mif\u001b[0m \u001b[0mself\u001b[0m\u001b[0;34m.\u001b[0m\u001b[0mstateful\u001b[0m\u001b[0;34m:\u001b[0m\u001b[0;34m\u001b[0m\u001b[0m\n\u001b[1;32m   1181\u001b[0m             \u001b[0;32mif\u001b[0m \u001b[0mx\u001b[0m\u001b[0;34m[\u001b[0m\u001b[0;36m0\u001b[0m\u001b[0;34m]\u001b[0m\u001b[0;34m.\u001b[0m\u001b[0mshape\u001b[0m\u001b[0;34m[\u001b[0m\u001b[0;36m0\u001b[0m\u001b[0;34m]\u001b[0m \u001b[0;34m>\u001b[0m \u001b[0mbatch_size\u001b[0m \u001b[0;32mand\u001b[0m \u001b[0mx\u001b[0m\u001b[0;34m[\u001b[0m\u001b[0;36m0\u001b[0m\u001b[0;34m]\u001b[0m\u001b[0;34m.\u001b[0m\u001b[0mshape\u001b[0m\u001b[0;34m[\u001b[0m\u001b[0;36m0\u001b[0m\u001b[0;34m]\u001b[0m \u001b[0;34m%\u001b[0m \u001b[0mbatch_size\u001b[0m \u001b[0;34m!=\u001b[0m \u001b[0;36m0\u001b[0m\u001b[0;34m:\u001b[0m\u001b[0;34m\u001b[0m\u001b[0m\n",
      "\u001b[0;32m/Users/Daniel/anaconda/lib/python2.7/site-packages/keras/engine/training.pyc\u001b[0m in \u001b[0;36mstandardize_input_data\u001b[0;34m(data, names, shapes, check_batch_dim, exception_prefix)\u001b[0m\n\u001b[1;32m    109\u001b[0m                                         \u001b[0;34m' to have shape '\u001b[0m \u001b[0;34m+\u001b[0m \u001b[0mstr\u001b[0m\u001b[0;34m(\u001b[0m\u001b[0mshapes\u001b[0m\u001b[0;34m[\u001b[0m\u001b[0mi\u001b[0m\u001b[0;34m]\u001b[0m\u001b[0;34m)\u001b[0m \u001b[0;34m+\u001b[0m\u001b[0;34m\u001b[0m\u001b[0m\n\u001b[1;32m    110\u001b[0m                                         \u001b[0;34m' but got array with shape '\u001b[0m \u001b[0;34m+\u001b[0m\u001b[0;34m\u001b[0m\u001b[0m\n\u001b[0;32m--> 111\u001b[0;31m                                         str(array.shape))\n\u001b[0m\u001b[1;32m    112\u001b[0m     \u001b[0;32mreturn\u001b[0m \u001b[0marrays\u001b[0m\u001b[0;34m\u001b[0m\u001b[0m\n\u001b[1;32m    113\u001b[0m \u001b[0;34m\u001b[0m\u001b[0m\n",
      "\u001b[0;31mException\u001b[0m: Error when checking : expected embedding_input_3 to have shape (None, 203) but got array with shape (203, 1)"
     ]
    }
   ],
   "source": [
    "preds = model.predict(x[0])\n",
    "round(preds[1])"
   ]
  },
  {
   "cell_type": "code",
   "execution_count": 18,
   "metadata": {
    "collapsed": false
   },
   "outputs": [],
   "source": [
    "import pickle\n",
    "#pickle.dump(tk, open(\"tk.pickle\", \"wb\"))\n",
    "with open('tk.pickle', 'wb') as handle:\n",
    "    pickle.dump(tk, handle, protocol=pickle.HIGHEST_PROTOCOL)\n"
   ]
  },
  {
   "cell_type": "code",
   "execution_count": 74,
   "metadata": {
    "collapsed": false
   },
   "outputs": [
    {
     "name": "stdout",
     "output_type": "stream",
     "text": [
      "0.0\n"
     ]
    }
   ],
   "source": [
    "input_str = 'I did not love it!'\n",
    "rating = 2\n",
    "\n",
    "def sentiment_predictor(input_str, rating):\n",
    "    dummy = ''\n",
    "    cleaned = cleaning_text(input_str)\n",
    "    sequences = tk.texts_to_sequences([dummy, cleaned])\n",
    "    padded_sequences = sequence.pad_sequences(sequences, maxlen = 203, padding = 'post')\n",
    "    #drop_dummy = padded_sequences[1]\n",
    "    #print drop_dummy.shape\n",
    "    preds = model.predict(padded_sequences)\n",
    "\n",
    "\n",
    "    #either 0 or 1\n",
    "    predicted_rating = round(preds[1])\n",
    "    print predicted_rating \n",
    "    \n",
    "    if rating < 6 and predicted_rating == 1:\n",
    "        return 'Are you sure about that score? It seemed like you liked it'\n",
    "    elif rating > 8 and predicted_rating == 0:\n",
    "        return \"Hmm, it seems like you don't really like this game, are you sure about that rating?\"\n",
    "\n",
    "sentiment_predictor(input_str, rating)"
   ]
  },
  {
   "cell_type": "code",
   "execution_count": null,
   "metadata": {
    "collapsed": true
   },
   "outputs": [],
   "source": []
  }
 ],
 "metadata": {
  "anaconda-cloud": {},
  "kernelspec": {
   "display_name": "Python [conda root]",
   "language": "python",
   "name": "conda-root-py"
  },
  "language_info": {
   "codemirror_mode": {
    "name": "ipython",
    "version": 2
   },
   "file_extension": ".py",
   "mimetype": "text/x-python",
   "name": "python",
   "nbconvert_exporter": "python",
   "pygments_lexer": "ipython2",
   "version": "2.7.9"
  }
 },
 "nbformat": 4,
 "nbformat_minor": 1
}
