{
 "cells": [
  {
   "cell_type": "code",
   "execution_count": 227,
   "metadata": {
    "collapsed": false
   },
   "outputs": [],
   "source": [
    "% matplotlib inline\n",
    "import matplotlib.pyplot as plt\n",
    "import pandas as pd\n",
    "import numpy as np\n",
    "import shutil\n",
    "import os\n",
    "from scipy.sparse import coo_matrix"
   ]
  },
  {
   "cell_type": "code",
   "execution_count": 228,
   "metadata": {
    "collapsed": true
   },
   "outputs": [],
   "source": [
    "# Calculate RMSE for ratings prediction\n",
    "from sklearn.metrics import mean_squared_error\n",
    "from math import sqrt\n",
    "def rmse(prediction, ground_truth):\n",
    "    prediction = prediction[ground_truth.nonzero()].flatten() \n",
    "    ground_truth = ground_truth[ground_truth.nonzero()].flatten()\n",
    "    return sqrt(mean_squared_error(prediction, ground_truth))"
   ]
  },
  {
   "cell_type": "code",
   "execution_count": 229,
   "metadata": {
    "collapsed": false
   },
   "outputs": [],
   "source": [
    "# load in dataset\n",
    "import mysql.connector\n",
    "import yaml\n",
    "\n",
    "cfg = yaml.safe_load(open('_inc.yaml'))\n",
    "cnx = mysql.connector.connect(user=cfg['mysql']['user'], password=cfg['mysql']['pwd'],\n",
    "                            host=cfg['mysql']['server'], database=cfg['mysql']['db'])\n",
    "\n",
    "# load games dataset\n",
    "games = pd.read_sql_query(\"select * from tblGame;\", cnx)\n",
    "# load tv shows dataset\n",
    "tv = pd.read_sql_query(\"select * from tblTVShow;\", cnx)\n",
    "# load movies dataset\n",
    "movies = pd.read_sql_query(\"select * from tblMovie;\", cnx) \n",
    "# load Reviews\n",
    "reviews = pd.read_sql_query(\"select * from tblReview;\", cnx)"
   ]
  },
  {
   "cell_type": "code",
   "execution_count": 230,
   "metadata": {
    "collapsed": false
   },
   "outputs": [],
   "source": [
    "# products_dataset\n",
    "products_dataset = games[['uniqueID', 'name']].append(movies[['uniqueID', 'name']]).append(tv[['uniqueID', 'name']])"
   ]
  },
  {
   "cell_type": "code",
   "execution_count": 241,
   "metadata": {
    "collapsed": false
   },
   "outputs": [
    {
     "data": {
      "text/html": [
       "<div>\n",
       "<table border=\"1\" class=\"dataframe\">\n",
       "  <thead>\n",
       "    <tr style=\"text-align: right;\">\n",
       "      <th></th>\n",
       "      <th>uniqueID</th>\n",
       "      <th>author</th>\n",
       "      <th>score</th>\n",
       "    </tr>\n",
       "  </thead>\n",
       "  <tbody>\n",
       "    <tr>\n",
       "      <th>514304</th>\n",
       "      <td>20417</td>\n",
       "      <td>swing</td>\n",
       "      <td>3</td>\n",
       "    </tr>\n",
       "    <tr>\n",
       "      <th>514305</th>\n",
       "      <td>20417</td>\n",
       "      <td>cwongx</td>\n",
       "      <td>10</td>\n",
       "    </tr>\n",
       "    <tr>\n",
       "      <th>514306</th>\n",
       "      <td>20417</td>\n",
       "      <td>jmmarch</td>\n",
       "      <td>3</td>\n",
       "    </tr>\n",
       "    <tr>\n",
       "      <th>514307</th>\n",
       "      <td>20417</td>\n",
       "      <td>RatedRex</td>\n",
       "      <td>8</td>\n",
       "    </tr>\n",
       "    <tr>\n",
       "      <th>514308</th>\n",
       "      <td>20417</td>\n",
       "      <td>Morphine_OD</td>\n",
       "      <td>0</td>\n",
       "    </tr>\n",
       "  </tbody>\n",
       "</table>\n",
       "</div>"
      ],
      "text/plain": [
       "        uniqueID       author  score\n",
       "514304     20417        swing      3\n",
       "514305     20417       cwongx     10\n",
       "514306     20417      jmmarch      3\n",
       "514307     20417     RatedRex      8\n",
       "514308     20417  Morphine_OD      0"
      ]
     },
     "execution_count": 241,
     "metadata": {},
     "output_type": "execute_result"
    }
   ],
   "source": [
    "# Restricting to user_reviews for \n",
    "users = reviews[reviews['reviewType']=='u']\n",
    "users = users[['uniqueID','author', 'score']]\n",
    "users.head(5)"
   ]
  },
  {
   "cell_type": "code",
   "execution_count": 242,
   "metadata": {
    "collapsed": false
   },
   "outputs": [],
   "source": [
    "users = users[users.author!=\"\"]\n",
    "# filter with authors >1\n",
    "authors = users.groupby(['author']).agg('count')\n",
    "author_gtone = authors[authors['score'] > 20].index\n",
    "# take only those authors\n",
    "users = users[users['author'].isin(author_gtone)]"
   ]
  },
  {
   "cell_type": "code",
   "execution_count": 244,
   "metadata": {
    "collapsed": false
   },
   "outputs": [],
   "source": [
    "user_item_matrix = pd.pivot_table(users, values = 'score', index = ['author'], columns = ['uniqueID'], aggfunc=np.max)\n",
    "\n",
    "# take off anonymous reviews\n",
    "user_item_matrix = user_item_matrix.iloc[1:,]\n",
    "\n",
    "# delete any games that only had anonymous reviews\n",
    "user_item_matrix  = user_item_matrix.dropna(axis = 1, how = 'all')\n",
    "# fill na to zero\n",
    "data = user_item_matrix.fillna(0)"
   ]
  },
  {
   "cell_type": "code",
   "execution_count": 245,
   "metadata": {
    "collapsed": false
   },
   "outputs": [],
   "source": [
    "# normalize item_user_matrix by each user's mean\n",
    "R = data.as_matrix()\n",
    "user_ratings_mean = np.mean(R, axis = 1)\n",
    "R_demeaned = R - user_ratings_mean.reshape(-1, 1)"
   ]
  },
  {
   "cell_type": "code",
   "execution_count": 246,
   "metadata": {
    "collapsed": true
   },
   "outputs": [],
   "source": [
    "#################### BASELINE RMSE FOR COMPARISON TO SVD MODEL "
   ]
  },
  {
   "cell_type": "code",
   "execution_count": 247,
   "metadata": {
    "collapsed": false
   },
   "outputs": [],
   "source": [
    "# baseline \n",
    "R_demeaned_mean = np.mean(R_demeaned)\n",
    "baseline_average_prediction = np.ones([R.shape[0], R.shape[1]])*R_demeaned_mean \n",
    "baseline_rmse = rmse(baseline_average_prediction, R)"
   ]
  },
  {
   "cell_type": "code",
   "execution_count": 248,
   "metadata": {
    "collapsed": false
   },
   "outputs": [
    {
     "data": {
      "text/plain": [
       "7.496572563457326"
      ]
     },
     "execution_count": 248,
     "metadata": {},
     "output_type": "execute_result"
    }
   ],
   "source": [
    "baseline_rmse"
   ]
  },
  {
   "cell_type": "code",
   "execution_count": 249,
   "metadata": {
    "collapsed": true
   },
   "outputs": [],
   "source": [
    "#################### SVD Implementation"
   ]
  },
  {
   "cell_type": "code",
   "execution_count": 250,
   "metadata": {
    "collapsed": false
   },
   "outputs": [],
   "source": [
    "from scipy.sparse.linalg import svds\n",
    "U, sigma, Vt = svds(R_demeaned, k = 50)\n",
    "sigma = np.diag(sigma)"
   ]
  },
  {
   "cell_type": "code",
   "execution_count": 251,
   "metadata": {
    "collapsed": true
   },
   "outputs": [],
   "source": [
    "# Making a prediction from decomposed matrix\n",
    "all_user_predicted_ratings = np.dot(np.dot(U, sigma), Vt) + user_ratings_mean.reshape(-1, 1)"
   ]
  },
  {
   "cell_type": "code",
   "execution_count": 252,
   "metadata": {
    "collapsed": false
   },
   "outputs": [],
   "source": [
    "model_rmse = rmse(all_user_predicted_ratings, R)"
   ]
  },
  {
   "cell_type": "code",
   "execution_count": 260,
   "metadata": {
    "collapsed": false
   },
   "outputs": [
    {
     "name": "stdout",
     "output_type": "stream",
     "text": [
      "Baseline RMSE: 7.50\n",
      "Model rmse: 6.07\n",
      "Improvement from baseline model(in percentage): 19.07\n"
     ]
    }
   ],
   "source": [
    "print \"Baseline RMSE: %.2f\" %baseline_rmse\n",
    "print \"Model rmse: %.2f\" %model_rmse\n",
    "print \"Improvement from baseline model(in percentage): %.2f\" %((baseline_rmse-model_rmse)/baseline_rmse*100)"
   ]
  },
  {
   "cell_type": "code",
   "execution_count": 254,
   "metadata": {
    "collapsed": true
   },
   "outputs": [],
   "source": [
    "################## Recommendation"
   ]
  },
  {
   "cell_type": "code",
   "execution_count": 261,
   "metadata": {
    "collapsed": false
   },
   "outputs": [
    {
     "data": {
      "text/html": [
       "<div>\n",
       "<table border=\"1\" class=\"dataframe\">\n",
       "  <thead>\n",
       "    <tr style=\"text-align: right;\">\n",
       "      <th>uniqueID</th>\n",
       "      <th>1</th>\n",
       "      <th>3</th>\n",
       "      <th>4</th>\n",
       "      <th>5</th>\n",
       "      <th>6</th>\n",
       "      <th>11</th>\n",
       "      <th>13</th>\n",
       "      <th>14</th>\n",
       "      <th>15</th>\n",
       "      <th>16</th>\n",
       "      <th>...</th>\n",
       "      <th>27849</th>\n",
       "      <th>27850</th>\n",
       "      <th>27851</th>\n",
       "      <th>27853</th>\n",
       "      <th>27855</th>\n",
       "      <th>27857</th>\n",
       "      <th>27858</th>\n",
       "      <th>27860</th>\n",
       "      <th>27862</th>\n",
       "      <th>27864</th>\n",
       "    </tr>\n",
       "  </thead>\n",
       "  <tbody>\n",
       "    <tr>\n",
       "      <th>0</th>\n",
       "      <td>0.000257</td>\n",
       "      <td>0.216988</td>\n",
       "      <td>0.023564</td>\n",
       "      <td>-0.000069</td>\n",
       "      <td>0.016538</td>\n",
       "      <td>-0.108562</td>\n",
       "      <td>-0.082281</td>\n",
       "      <td>0.000096</td>\n",
       "      <td>0.014074</td>\n",
       "      <td>-0.047849</td>\n",
       "      <td>...</td>\n",
       "      <td>-0.039618</td>\n",
       "      <td>-0.002232</td>\n",
       "      <td>0.004483</td>\n",
       "      <td>-0.191171</td>\n",
       "      <td>-0.028063</td>\n",
       "      <td>-0.123313</td>\n",
       "      <td>0.004078</td>\n",
       "      <td>-0.018301</td>\n",
       "      <td>-0.016706</td>\n",
       "      <td>-0.085380</td>\n",
       "    </tr>\n",
       "    <tr>\n",
       "      <th>1</th>\n",
       "      <td>-0.012939</td>\n",
       "      <td>-0.003202</td>\n",
       "      <td>-0.023965</td>\n",
       "      <td>-0.013502</td>\n",
       "      <td>-0.023269</td>\n",
       "      <td>0.028193</td>\n",
       "      <td>0.018078</td>\n",
       "      <td>0.009370</td>\n",
       "      <td>-0.014735</td>\n",
       "      <td>-0.011735</td>\n",
       "      <td>...</td>\n",
       "      <td>0.011269</td>\n",
       "      <td>-0.001872</td>\n",
       "      <td>0.004668</td>\n",
       "      <td>0.124536</td>\n",
       "      <td>-0.045588</td>\n",
       "      <td>0.002927</td>\n",
       "      <td>-0.002293</td>\n",
       "      <td>0.023884</td>\n",
       "      <td>-0.052057</td>\n",
       "      <td>0.018577</td>\n",
       "    </tr>\n",
       "    <tr>\n",
       "      <th>2</th>\n",
       "      <td>0.014395</td>\n",
       "      <td>0.035838</td>\n",
       "      <td>0.012538</td>\n",
       "      <td>0.014338</td>\n",
       "      <td>0.035406</td>\n",
       "      <td>-0.000533</td>\n",
       "      <td>-0.003850</td>\n",
       "      <td>0.014538</td>\n",
       "      <td>0.014073</td>\n",
       "      <td>0.020838</td>\n",
       "      <td>...</td>\n",
       "      <td>0.020129</td>\n",
       "      <td>0.016939</td>\n",
       "      <td>0.013256</td>\n",
       "      <td>0.162350</td>\n",
       "      <td>0.080395</td>\n",
       "      <td>0.036768</td>\n",
       "      <td>0.017444</td>\n",
       "      <td>0.028209</td>\n",
       "      <td>0.007083</td>\n",
       "      <td>0.057905</td>\n",
       "    </tr>\n",
       "    <tr>\n",
       "      <th>3</th>\n",
       "      <td>-0.001484</td>\n",
       "      <td>0.060357</td>\n",
       "      <td>0.010389</td>\n",
       "      <td>-0.001514</td>\n",
       "      <td>-0.031809</td>\n",
       "      <td>0.105464</td>\n",
       "      <td>0.110920</td>\n",
       "      <td>-0.004813</td>\n",
       "      <td>-0.007330</td>\n",
       "      <td>0.073388</td>\n",
       "      <td>...</td>\n",
       "      <td>0.053736</td>\n",
       "      <td>-0.002449</td>\n",
       "      <td>0.004490</td>\n",
       "      <td>0.442672</td>\n",
       "      <td>0.335339</td>\n",
       "      <td>0.125881</td>\n",
       "      <td>0.000165</td>\n",
       "      <td>0.025330</td>\n",
       "      <td>0.078264</td>\n",
       "      <td>-0.006648</td>\n",
       "    </tr>\n",
       "    <tr>\n",
       "      <th>4</th>\n",
       "      <td>0.005022</td>\n",
       "      <td>-0.045479</td>\n",
       "      <td>0.005971</td>\n",
       "      <td>0.005144</td>\n",
       "      <td>0.030125</td>\n",
       "      <td>-0.002473</td>\n",
       "      <td>-0.004256</td>\n",
       "      <td>0.006161</td>\n",
       "      <td>0.013078</td>\n",
       "      <td>0.026315</td>\n",
       "      <td>...</td>\n",
       "      <td>-0.030636</td>\n",
       "      <td>-0.001537</td>\n",
       "      <td>-0.000942</td>\n",
       "      <td>-0.047013</td>\n",
       "      <td>0.123860</td>\n",
       "      <td>0.040400</td>\n",
       "      <td>0.035940</td>\n",
       "      <td>0.005045</td>\n",
       "      <td>-0.113621</td>\n",
       "      <td>0.181534</td>\n",
       "    </tr>\n",
       "  </tbody>\n",
       "</table>\n",
       "<p>5 rows × 14331 columns</p>\n",
       "</div>"
      ],
      "text/plain": [
       "uniqueID     1         3         4         5         6         11     \\\n",
       "0         0.000257  0.216988  0.023564 -0.000069  0.016538 -0.108562   \n",
       "1        -0.012939 -0.003202 -0.023965 -0.013502 -0.023269  0.028193   \n",
       "2         0.014395  0.035838  0.012538  0.014338  0.035406 -0.000533   \n",
       "3        -0.001484  0.060357  0.010389 -0.001514 -0.031809  0.105464   \n",
       "4         0.005022 -0.045479  0.005971  0.005144  0.030125 -0.002473   \n",
       "\n",
       "uniqueID     13        14        15        16       ...        27849  \\\n",
       "0        -0.082281  0.000096  0.014074 -0.047849    ...    -0.039618   \n",
       "1         0.018078  0.009370 -0.014735 -0.011735    ...     0.011269   \n",
       "2        -0.003850  0.014538  0.014073  0.020838    ...     0.020129   \n",
       "3         0.110920 -0.004813 -0.007330  0.073388    ...     0.053736   \n",
       "4        -0.004256  0.006161  0.013078  0.026315    ...    -0.030636   \n",
       "\n",
       "uniqueID     27850     27851     27853     27855     27857     27858  \\\n",
       "0        -0.002232  0.004483 -0.191171 -0.028063 -0.123313  0.004078   \n",
       "1        -0.001872  0.004668  0.124536 -0.045588  0.002927 -0.002293   \n",
       "2         0.016939  0.013256  0.162350  0.080395  0.036768  0.017444   \n",
       "3        -0.002449  0.004490  0.442672  0.335339  0.125881  0.000165   \n",
       "4        -0.001537 -0.000942 -0.047013  0.123860  0.040400  0.035940   \n",
       "\n",
       "uniqueID     27860     27862     27864  \n",
       "0        -0.018301 -0.016706 -0.085380  \n",
       "1         0.023884 -0.052057  0.018577  \n",
       "2         0.028209  0.007083  0.057905  \n",
       "3         0.025330  0.078264 -0.006648  \n",
       "4         0.005045 -0.113621  0.181534  \n",
       "\n",
       "[5 rows x 14331 columns]"
      ]
     },
     "execution_count": 261,
     "metadata": {},
     "output_type": "execute_result"
    }
   ],
   "source": [
    "# Making product recommendation\n",
    "preds_df = pd.DataFrame(all_user_predicted_ratings, columns = data.columns)\n",
    "preds_df.head()"
   ]
  },
  {
   "cell_type": "code",
   "execution_count": 262,
   "metadata": {
    "collapsed": false
   },
   "outputs": [],
   "source": [
    "user_row_number = 4\n",
    "sorted_user_predictions = preds_df.iloc[user_row_number].sort_values(ascending=False)"
   ]
  },
  {
   "cell_type": "code",
   "execution_count": 263,
   "metadata": {
    "collapsed": false
   },
   "outputs": [],
   "source": [
    "\"\"\"\n",
    "reccommend returns even items that a user has recommended highly\n",
    "\"\"\"\n",
    "def recommend(user_row_number, preds_df, info_df, user_item_df, top_n=5):\n",
    "    # History\n",
    "    user_history = user_item_df.iloc[[user_row_number,]]\n",
    "    ids = user_history.columns[~((user_history==0).all())]\n",
    "    # add in data frame infromation\n",
    "    history = pd.merge(pd.DataFrame(ids),products_dataset[['uniqueID', 'name']],how=\"left\", on =\"uniqueID\") \n",
    "    # add ratings information\n",
    "    history = pd.merge(history, user_history.T.reset_index(), on= \"uniqueID\", how=\"left\")\n",
    "    \n",
    "    \n",
    "    # prediction\n",
    "    sorted_user_predictions = preds_df.iloc[user_row_number].sort_values(ascending=False)\n",
    "    recommendation = sorted_user_predictions.sort_values(ascending=False).iloc[:top_n]\n",
    "    result = pd.merge(recommendation.reset_index()[['uniqueID']], info_df[['uniqueID', 'name']],how=\"left\", on =\"uniqueID\")\n",
    "    return result, history\n",
    "    \n",
    "suggestions, history = recommend(4, preds_df, products_dataset, data, 5)    "
   ]
  },
  {
   "cell_type": "code",
   "execution_count": 321,
   "metadata": {
    "collapsed": false
   },
   "outputs": [
    {
     "data": {
      "text/html": [
       "<div>\n",
       "<table border=\"1\" class=\"dataframe\">\n",
       "  <thead>\n",
       "    <tr style=\"text-align: right;\">\n",
       "      <th></th>\n",
       "      <th>uniqueID</th>\n",
       "      <th>name</th>\n",
       "      <th>43in2014</th>\n",
       "    </tr>\n",
       "  </thead>\n",
       "  <tbody>\n",
       "    <tr>\n",
       "      <th>0</th>\n",
       "      <td>20446</td>\n",
       "      <td>Kubo and the Two Strings</td>\n",
       "      <td>6.0</td>\n",
       "    </tr>\n",
       "    <tr>\n",
       "      <th>1</th>\n",
       "      <td>20468</td>\n",
       "      <td>Moana</td>\n",
       "      <td>10.0</td>\n",
       "    </tr>\n",
       "    <tr>\n",
       "      <th>2</th>\n",
       "      <td>20474</td>\n",
       "      <td>Your Name</td>\n",
       "      <td>10.0</td>\n",
       "    </tr>\n",
       "    <tr>\n",
       "      <th>3</th>\n",
       "      <td>20505</td>\n",
       "      <td>The Jungle Book</td>\n",
       "      <td>10.0</td>\n",
       "    </tr>\n",
       "    <tr>\n",
       "      <th>4</th>\n",
       "      <td>20875</td>\n",
       "      <td>Ida</td>\n",
       "      <td>6.0</td>\n",
       "    </tr>\n",
       "  </tbody>\n",
       "</table>\n",
       "</div>"
      ],
      "text/plain": [
       "   uniqueID                      name  43in2014\n",
       "0     20446  Kubo and the Two Strings       6.0\n",
       "1     20468                     Moana      10.0\n",
       "2     20474                 Your Name      10.0\n",
       "3     20505           The Jungle Book      10.0\n",
       "4     20875                       Ida       6.0"
      ]
     },
     "execution_count": 321,
     "metadata": {},
     "output_type": "execute_result"
    }
   ],
   "source": [
    "history.head(5)"
   ]
  },
  {
   "cell_type": "code",
   "execution_count": 265,
   "metadata": {
    "collapsed": false
   },
   "outputs": [
    {
     "data": {
      "text/html": [
       "<div>\n",
       "<table border=\"1\" class=\"dataframe\">\n",
       "  <thead>\n",
       "    <tr style=\"text-align: right;\">\n",
       "      <th></th>\n",
       "      <th>uniqueID</th>\n",
       "      <th>name</th>\n",
       "    </tr>\n",
       "  </thead>\n",
       "  <tbody>\n",
       "    <tr>\n",
       "      <th>0</th>\n",
       "      <td>20505</td>\n",
       "      <td>The Jungle Book</td>\n",
       "    </tr>\n",
       "    <tr>\n",
       "      <th>1</th>\n",
       "      <td>20421</td>\n",
       "      <td>La La Land</td>\n",
       "    </tr>\n",
       "    <tr>\n",
       "      <th>2</th>\n",
       "      <td>23833</td>\n",
       "      <td>The Nice Guys</td>\n",
       "    </tr>\n",
       "    <tr>\n",
       "      <th>3</th>\n",
       "      <td>24877</td>\n",
       "      <td>Doctor Strange</td>\n",
       "    </tr>\n",
       "    <tr>\n",
       "      <th>4</th>\n",
       "      <td>20789</td>\n",
       "      <td>Inside Out</td>\n",
       "    </tr>\n",
       "  </tbody>\n",
       "</table>\n",
       "</div>"
      ],
      "text/plain": [
       "   uniqueID             name\n",
       "0     20505  The Jungle Book\n",
       "1     20421       La La Land\n",
       "2     23833    The Nice Guys\n",
       "3     24877   Doctor Strange\n",
       "4     20789       Inside Out"
      ]
     },
     "execution_count": 265,
     "metadata": {},
     "output_type": "execute_result"
    }
   ],
   "source": [
    "suggestions"
   ]
  },
  {
   "cell_type": "code",
   "execution_count": 266,
   "metadata": {
    "collapsed": false
   },
   "outputs": [
    {
     "data": {
      "text/html": [
       "<div>\n",
       "<table border=\"1\" class=\"dataframe\">\n",
       "  <thead>\n",
       "    <tr style=\"text-align: right;\">\n",
       "      <th></th>\n",
       "      <th>uniqueID</th>\n",
       "      <th>name</th>\n",
       "    </tr>\n",
       "  </thead>\n",
       "  <tbody>\n",
       "    <tr>\n",
       "      <th>0</th>\n",
       "      <td>20421</td>\n",
       "      <td>NaN</td>\n",
       "    </tr>\n",
       "    <tr>\n",
       "      <th>1</th>\n",
       "      <td>23833</td>\n",
       "      <td>NaN</td>\n",
       "    </tr>\n",
       "    <tr>\n",
       "      <th>2</th>\n",
       "      <td>20789</td>\n",
       "      <td>NaN</td>\n",
       "    </tr>\n",
       "    <tr>\n",
       "      <th>3</th>\n",
       "      <td>20503</td>\n",
       "      <td>NaN</td>\n",
       "    </tr>\n",
       "    <tr>\n",
       "      <th>4</th>\n",
       "      <td>21104</td>\n",
       "      <td>NaN</td>\n",
       "    </tr>\n",
       "    <tr>\n",
       "      <th>5</th>\n",
       "      <td>20955</td>\n",
       "      <td>NaN</td>\n",
       "    </tr>\n",
       "    <tr>\n",
       "      <th>6</th>\n",
       "      <td>21017</td>\n",
       "      <td>NaN</td>\n",
       "    </tr>\n",
       "    <tr>\n",
       "      <th>7</th>\n",
       "      <td>21062</td>\n",
       "      <td>NaN</td>\n",
       "    </tr>\n",
       "    <tr>\n",
       "      <th>8</th>\n",
       "      <td>23878</td>\n",
       "      <td>NaN</td>\n",
       "    </tr>\n",
       "    <tr>\n",
       "      <th>9</th>\n",
       "      <td>24715</td>\n",
       "      <td>NaN</td>\n",
       "    </tr>\n",
       "  </tbody>\n",
       "</table>\n",
       "</div>"
      ],
      "text/plain": [
       "   uniqueID name\n",
       "0     20421  NaN\n",
       "1     23833  NaN\n",
       "2     20789  NaN\n",
       "3     20503  NaN\n",
       "4     21104  NaN\n",
       "5     20955  NaN\n",
       "6     21017  NaN\n",
       "7     21062  NaN\n",
       "8     23878  NaN\n",
       "9     24715  NaN"
      ]
     },
     "execution_count": 266,
     "metadata": {},
     "output_type": "execute_result"
    }
   ],
   "source": [
    "\"\"\"\n",
    "collaborative_recommend returns new items only\n",
    "\"\"\"\n",
    "def collaborative_recommend(user_row_number, preds_df, info_df, user_item_df, top_n=5):\n",
    "    # History\n",
    "    user_history = user_item_df.iloc[[user_row_number,]]\n",
    "    ids = user_history.columns[~((user_history==0).all())]\n",
    "    # add in data frame infromation\n",
    "    history = pd.merge(pd.DataFrame(ids),products_dataset[['uniqueID', 'name']],how=\"left\", on =\"uniqueID\") \n",
    "    # add ratings information\n",
    "    history = pd.merge(history, user_history.T.reset_index(), on= \"uniqueID\", how=\"left\")\n",
    "    \n",
    "    # prediction\n",
    "    sorted_user_predictions = preds_df.loc[user_row_number,user_item_df.iloc[user_row_number,:]==0].sort_values(ascending=False)\n",
    "    recommendation = sorted_user_predictions.sort_values(ascending=False).iloc[:top_n]\n",
    "    result = pd.merge(recommendation.reset_index()[['uniqueID']], info_df[['uniqueID', 'name']],how=\"left\", on =\"uniqueID\")\n",
    "    return result, history\n",
    "    \n",
    "suggestions, history = collaborative_recommend(4, preds_df,games,data,10)    \n",
    "suggestions"
   ]
  },
  {
   "cell_type": "code",
   "execution_count": 269,
   "metadata": {
    "collapsed": false
   },
   "outputs": [],
   "source": [
    "#save pickle file\n",
    "import pickle\n",
    "with open('user_item_matrix_smaller.pickle', 'wb') as handle:\n",
    "    pickle.dump(data, handle, protocol=pickle.HIGHEST_PROTOCOL)"
   ]
  },
  {
   "cell_type": "code",
   "execution_count": 149,
   "metadata": {
    "collapsed": false
   },
   "outputs": [],
   "source": [
    "############ Functions for Flask App "
   ]
  },
  {
   "cell_type": "code",
   "execution_count": 196,
   "metadata": {
    "collapsed": false
   },
   "outputs": [],
   "source": [
    "# load pickle file of preloaded pivot table\n",
    "from scipy.sparse.linalg import svds\n",
    "import pickle\n",
    "\n",
    "#to load a pickle file\n",
    "with open('user_item_matrix.pickle', 'rb') as f:\n",
    "    user_item_matrix = pickle.load(f)\n"
   ]
  },
  {
   "cell_type": "code",
   "execution_count": 197,
   "metadata": {
    "collapsed": false
   },
   "outputs": [
    {
     "data": {
      "text/plain": [
       "Int64Index([6320, 6393, 6162, 6058, 10810], dtype='int64', name=u'uniqueID')"
      ]
     },
     "execution_count": 197,
     "metadata": {},
     "output_type": "execute_result"
    }
   ],
   "source": [
    "d ={1:10, 2:10}\n",
    "last = user_item_matrix.shape[0]\n",
    "user_item_matrix = add_score(d, user_item_matrix)\n",
    "preds_df = predict_svd(user_item_matrix)\n",
    "collaborative_recommend(last-1, preds_df, user_item_matrix,5) "
   ]
  },
  {
   "cell_type": "code",
   "execution_count": 151,
   "metadata": {
    "collapsed": false
   },
   "outputs": [],
   "source": [
    "# function takes in input from users and adds it to user_item matrix\n",
    "\"\"\"\n",
    "add_score: adds a dictionary of values rated obtained from user to the user_matrix\n",
    "d should be formated as: type: dictionary, format: {'uniqueID': 'score'}\n",
    "\"\"\"\n",
    "def add_score(d, user_matrix):\n",
    "    last = len(user_matrix)\n",
    "    user_matrix.loc[len(user_matrix),d.keys()[0]] = d.values()[0]\n",
    "    if len(d)>1:\n",
    "        for i in range(1, len(d)):\n",
    "            user_matrix.loc[last,d.keys()[i]] = d.values()[i]\n",
    "    return user_matrix.fillna(0)"
   ]
  },
  {
   "cell_type": "code",
   "execution_count": 167,
   "metadata": {
    "collapsed": true
   },
   "outputs": [],
   "source": [
    "\"\"\"\n",
    "predict_svd: takes a user_item_matrix and returns a matrix of same shape with all ratings predictions\n",
    "\"\"\"\n",
    "\n",
    "def predict_svd(user_item_matrix):\n",
    "    # change type and normalize ratings for SVD\n",
    "    R = user_item_matrix.as_matrix()\n",
    "    user_ratings_mean = np.mean(R, axis = 1)\n",
    "    R_demeaned = R - user_ratings_mean.reshape(-1, 1)\n",
    "    \n",
    "    # svd\n",
    "    U, sigma, Vt = svds(R_demeaned, k = 50)\n",
    "    sigma = np.diag(sigma)\n",
    "    \n",
    "    all_user_predicted_ratings = np.dot(np.dot(U, sigma), Vt) + user_ratings_mean.reshape(-1, 1)\n",
    "    \n",
    "    preds_df = pd.DataFrame(all_user_predicted_ratings, columns = user_item_matrix.columns)\n",
    "    \n",
    "    return preds_df"
   ]
  },
  {
   "cell_type": "code",
   "execution_count": 170,
   "metadata": {
    "collapsed": false
   },
   "outputs": [],
   "source": [
    "\"\"\"\n",
    "collaborative_recommend returns a list with of uniqueIDs of recommended items\n",
    "\"\"\"\n",
    "def collaborative_recommend(user_row_number, preds_df, user_item_df, top_n=5):\n",
    "    sorted_user_predictions = preds_df.loc[user_row_number,user_item_df.iloc[user_row_number,:]==0].sort_values(ascending=False)\n",
    "    recommendation = sorted_user_predictions.sort_values(ascending=False).iloc[:top_n]\n",
    "    return recommendation.index\n",
    "    \n",
    "suggestions = collaborative_recommend(4, preds_df, user_item_matrix,5)    \n"
   ]
  },
  {
   "cell_type": "code",
   "execution_count": null,
   "metadata": {
    "collapsed": false
   },
   "outputs": [],
   "source": []
  },
  {
   "cell_type": "code",
   "execution_count": 198,
   "metadata": {
    "collapsed": true
   },
   "outputs": [],
   "source": [
    "# Train/test split to check which value of K to use in the SVD model"
   ]
  },
  {
   "cell_type": "code",
   "execution_count": 270,
   "metadata": {
    "collapsed": true
   },
   "outputs": [],
   "source": [
    "# split train and test dataset\n",
    "\n",
    "# Define a function for splitting train/test data.\n",
    "def split_train_test(data, percent_test=10):\n",
    "    \"\"\"Split the data(user to item matrix) into train/test sets.\n",
    "    :param int percent_test: Percentage of data to use for testing. Default 10.\n",
    "    \"\"\"\n",
    "    n, m = data.shape             # # users, # games\n",
    "    N = n * m                     # # cells in matrix\n",
    "\n",
    "    # Prepare train/test ndarrays.\n",
    "    train = data.copy().values\n",
    "    test = np.ones(data.shape) * np.nan\n",
    "\n",
    "    # Draw random sample of training data to use for testing.\n",
    "    tosample = np.where(~np.isnan(train))       # ignore nan values in data\n",
    "    idx_pairs = zip(tosample[0], tosample[1])   # tuples of row/col index pairs\n",
    "    indices = np.arange(len(idx_pairs))         # indices of index pairs\n",
    "    \n",
    "    test_size = len(indices) / percent_test  # use 10% of data as test set\n",
    "    train_size = len(indices) - test_size    # and remainder for training\n",
    "    \n",
    "    sample = np.random.choice(indices, replace=False, size=test_size)\n",
    "\n",
    "    # Transfer random sample from train set to test set.\n",
    "    for idx in sample:\n",
    "        idx_pair = idx_pairs[idx]\n",
    "        test[idx_pair] = train[idx_pair]  # transfer to test set\n",
    "        train[idx_pair] = np.nan          # remove from train set\n",
    "\n",
    "    # Return train set, test set\n",
    "    return train, test\n",
    "\n",
    "train, test = split_train_test(user_item_matrix)\n",
    "# Training dataset\n",
    "R_train = np.nan_to_num(train)\n",
    "train_user_ratings_mean = np.mean(R_train, axis = 1)\n",
    "R_train_demeaned = R_train - train_user_ratings_mean.reshape(-1, 1)\n",
    "# Test dataset\n",
    "R_test = np.nan_to_num(test)"
   ]
  },
  {
   "cell_type": "code",
   "execution_count": 298,
   "metadata": {
    "collapsed": false
   },
   "outputs": [],
   "source": [
    "# Cross-validation  function\n",
    "def svd_cv(train,test, k_list):\n",
    "    train_rmse_list = []\n",
    "    test_rmse_list = []\n",
    "    \n",
    "    # Training dataset\n",
    "    R_train = np.nan_to_num(train)\n",
    "    train_user_ratings_mean = np.mean(R_train, axis = 1)\n",
    "    R_train_demeaned = R_train - train_user_ratings_mean.reshape(-1, 1)\n",
    "    \n",
    "    # Test dataset\n",
    "    R_test = np.nan_to_num(test)\n",
    "    \n",
    "    for i in k_list:\n",
    "        # SVD on training set\n",
    "        U, sigma, Vt = svds(R_train_demeaned, k = i)\n",
    "        sigma = np.diag(sigma)\n",
    "    \n",
    "        # Making a prediction from decomposed train matrix\n",
    "        all_user_predicted_ratings = np.dot(np.dot(U, sigma), Vt) + train_user_ratings_mean.reshape(-1, 1)\n",
    "    \n",
    "        # train error\n",
    "        train_rmse = rmse(all_user_predicted_ratings, R_train)\n",
    "        train_rmse_list  = train_rmse_list + [train_rmse]\n",
    "    \n",
    "        # test error\n",
    "        test_rmse = rmse(all_user_predicted_ratings, R_test)\n",
    "        test_rmse_list  = test_rmse_list + [test_rmse]\n",
    "        \n",
    "        print \"(k=%i)Training error: %.2f, Test error: %.2f\" %(i,train_rmse,test_rmse)\n",
    "    \n",
    "    \n",
    "    return train_rmse_list, test_rmse_list\n",
    "    "
   ]
  },
  {
   "cell_type": "code",
   "execution_count": 301,
   "metadata": {
    "collapsed": false
   },
   "outputs": [
    {
     "name": "stdout",
     "output_type": "stream",
     "text": [
      "(k=1)Training error: 7.31, Test error: 7.35\n",
      "(k=2)Training error: 7.17, Test error: 7.24\n",
      "(k=3)Training error: 7.09, Test error: 7.17\n",
      "(k=4)Training error: 7.03, Test error: 7.13\n",
      "(k=5)Training error: 6.97, Test error: 7.10\n",
      "(k=6)Training error: 6.92, Test error: 7.07\n",
      "(k=7)Training error: 6.88, Test error: 7.04\n",
      "(k=8)Training error: 6.84, Test error: 7.01\n",
      "(k=9)Training error: 6.81, Test error: 7.00\n",
      "(k=10)Training error: 6.78, Test error: 6.99\n",
      "(k=11)Training error: 6.75, Test error: 6.98\n",
      "(k=12)Training error: 6.72, Test error: 6.97\n",
      "(k=13)Training error: 6.70, Test error: 6.96\n",
      "(k=14)Training error: 6.68, Test error: 6.95\n",
      "(k=15)Training error: 6.66, Test error: 6.95\n",
      "(k=16)Training error: 6.64, Test error: 6.95\n",
      "(k=17)Training error: 6.62, Test error: 6.94\n",
      "(k=18)Training error: 6.60, Test error: 6.94\n",
      "(k=19)Training error: 6.58, Test error: 6.94\n",
      "(k=20)Training error: 6.56, Test error: 6.93\n",
      "(k=21)Training error: 6.54, Test error: 6.93\n",
      "(k=22)Training error: 6.52, Test error: 6.92\n",
      "(k=23)Training error: 6.50, Test error: 6.92\n",
      "(k=24)Training error: 6.49, Test error: 6.92\n",
      "(k=25)Training error: 6.47, Test error: 6.91\n",
      "(k=26)Training error: 6.45, Test error: 6.91\n",
      "(k=27)Training error: 6.44, Test error: 6.91\n",
      "(k=28)Training error: 6.42, Test error: 6.90\n",
      "(k=29)Training error: 6.41, Test error: 6.90\n",
      "(k=30)Training error: 6.39, Test error: 6.90\n",
      "(k=31)Training error: 6.38, Test error: 6.90\n",
      "(k=32)Training error: 6.36, Test error: 6.90\n",
      "(k=33)Training error: 6.35, Test error: 6.90\n",
      "(k=34)Training error: 6.33, Test error: 6.90\n",
      "(k=35)Training error: 6.32, Test error: 6.90\n",
      "(k=36)Training error: 6.31, Test error: 6.90\n",
      "(k=37)Training error: 6.29, Test error: 6.90\n",
      "(k=38)Training error: 6.28, Test error: 6.90\n",
      "(k=39)Training error: 6.27, Test error: 6.90\n",
      "(k=40)Training error: 6.26, Test error: 6.90\n",
      "(k=41)Training error: 6.24, Test error: 6.90\n",
      "(k=42)Training error: 6.23, Test error: 6.90\n",
      "(k=43)Training error: 6.22, Test error: 6.90\n",
      "(k=44)Training error: 6.20, Test error: 6.90\n",
      "(k=45)Training error: 6.19, Test error: 6.90\n",
      "(k=46)Training error: 6.18, Test error: 6.90\n",
      "(k=47)Training error: 6.16, Test error: 6.89\n",
      "(k=48)Training error: 6.15, Test error: 6.90\n",
      "(k=49)Training error: 6.14, Test error: 6.90\n",
      "(k=50)Training error: 6.13, Test error: 6.90\n",
      "(k=51)Training error: 6.12, Test error: 6.90\n",
      "(k=52)Training error: 6.11, Test error: 6.90\n",
      "(k=53)Training error: 6.09, Test error: 6.90\n",
      "(k=54)Training error: 6.08, Test error: 6.90\n",
      "(k=55)Training error: 6.07, Test error: 6.90\n",
      "(k=56)Training error: 6.06, Test error: 6.90\n",
      "(k=57)Training error: 6.05, Test error: 6.90\n",
      "(k=58)Training error: 6.04, Test error: 6.90\n",
      "(k=59)Training error: 6.03, Test error: 6.90\n",
      "(k=60)Training error: 6.02, Test error: 6.90\n",
      "(k=61)Training error: 6.00, Test error: 6.90\n",
      "(k=62)Training error: 5.99, Test error: 6.90\n",
      "(k=63)Training error: 5.98, Test error: 6.90\n",
      "(k=64)Training error: 5.97, Test error: 6.90\n",
      "(k=65)Training error: 5.96, Test error: 6.90\n",
      "(k=66)Training error: 5.95, Test error: 6.90\n",
      "(k=67)Training error: 5.94, Test error: 6.90\n",
      "(k=68)Training error: 5.93, Test error: 6.90\n",
      "(k=69)Training error: 5.92, Test error: 6.90\n",
      "(k=70)Training error: 5.91, Test error: 6.90\n",
      "(k=71)Training error: 5.90, Test error: 6.90\n",
      "(k=72)Training error: 5.89, Test error: 6.90\n",
      "(k=73)Training error: 5.88, Test error: 6.91\n",
      "(k=74)Training error: 5.87, Test error: 6.91\n",
      "(k=75)Training error: 5.86, Test error: 6.91\n",
      "(k=76)Training error: 5.85, Test error: 6.91\n",
      "(k=77)Training error: 5.84, Test error: 6.91\n",
      "(k=78)Training error: 5.83, Test error: 6.91\n",
      "(k=79)Training error: 5.82, Test error: 6.91\n",
      "(k=80)Training error: 5.81, Test error: 6.91\n",
      "(k=81)Training error: 5.80, Test error: 6.91\n",
      "(k=82)Training error: 5.79, Test error: 6.91\n",
      "(k=83)Training error: 5.78, Test error: 6.91\n",
      "(k=84)Training error: 5.77, Test error: 6.92\n",
      "(k=85)Training error: 5.76, Test error: 6.92\n",
      "(k=86)Training error: 5.75, Test error: 6.92\n",
      "(k=87)Training error: 5.74, Test error: 6.92\n",
      "(k=88)Training error: 5.73, Test error: 6.92\n",
      "(k=89)Training error: 5.72, Test error: 6.92\n",
      "(k=90)Training error: 5.71, Test error: 6.92\n",
      "(k=91)Training error: 5.70, Test error: 6.92\n",
      "(k=92)Training error: 5.70, Test error: 6.92\n",
      "(k=93)Training error: 5.69, Test error: 6.92\n",
      "(k=94)Training error: 5.68, Test error: 6.92\n",
      "(k=95)Training error: 5.67, Test error: 6.92\n",
      "(k=96)Training error: 5.66, Test error: 6.93\n",
      "(k=97)Training error: 5.65, Test error: 6.93\n",
      "(k=98)Training error: 5.64, Test error: 6.93\n",
      "(k=99)Training error: 5.63, Test error: 6.93\n"
     ]
    }
   ],
   "source": [
    "k_list = range(1,100)\n",
    "train_rmse_list, test_rmse_list = svd_cv(train,test,k_list)"
   ]
  },
  {
   "cell_type": "code",
   "execution_count": null,
   "metadata": {
    "collapsed": true
   },
   "outputs": [],
   "source": [
    "# plot train and test error"
   ]
  },
  {
   "cell_type": "code",
   "execution_count": 319,
   "metadata": {
    "collapsed": false
   },
   "outputs": [
    {
     "data": {
      "image/png": "[encoded data removed]",
      "text/plain": [
       "<matplotlib.figure.Figure at 0x301e7b9d0>"
      ]
     },
     "metadata": {},
     "output_type": "display_data"
    }
   ],
   "source": [
    "import matplotlib.pyplot as plt\n",
    "k_list = range(1,100)\n",
    "baseline_error = np.repeat(baseline_rmse,99)\n",
    "training_error = train_rmse_list\n",
    "test_error = test_rmse_list\n",
    "plt.plot(k_list, baseline_error, label='Baseline RMSE')\n",
    "plt.plot(k_list, training_error, linestyle='--', color='r', label='Train RMSE')\n",
    "plt.plot(k_list, test_error, linestyle='--', color='g', label='Test RMSE')\n",
    "plt.xlabel('K')\n",
    "plt.ylabel('RMSE Error')\n",
    "plt.title('RMSE for different values of K (Chosen k = 13)')\n",
    "plt.legend()\n",
    "plt.axis((0,100,5,8))\n",
    "plt.show()"
   ]
  }
 ],
 "metadata": {
  "anaconda-cloud": {},
  "kernelspec": {
   "display_name": "Python [default]",
   "language": "python",
   "name": "python2"
  },
  "language_info": {
   "codemirror_mode": {
    "name": "ipython",
    "version": 2
   },
   "file_extension": ".py",
   "mimetype": "text/x-python",
   "name": "python",
   "nbconvert_exporter": "python",
   "pygments_lexer": "ipython2",
   "version": "2.7.9"
  }
 },
 "nbformat": 4,
 "nbformat_minor": 0
}
